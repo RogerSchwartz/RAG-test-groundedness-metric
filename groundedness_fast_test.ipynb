{
 "cells": [
  {
   "cell_type": "code",
   "execution_count": null,
   "metadata": {
    "id": "4wGdc1hZ8KBm"
   },
   "outputs": [],
   "source": [
    "from google.colab import auth\n",
    "auth.authenticate_user()\n",
    "\n",
    "import gspread\n",
    "from google.auth import default\n",
    "creds, _ = default()\n",
    "\n",
    "gc = gspread.authorize(creds)\n",
    "\n",
    "#sh = gc.create('A new spreadsheet')\n",
    "\n",
    "# Open our new sheet and add some data.\n",
    "worksheet = gc.open('').sheet1"
   ]
  },
  {
   "cell_type": "code",
   "execution_count": null,
   "metadata": {
    "id": "8Ygg-c27Aoww"
   },
   "outputs": [],
   "source": [
    "import pandas as pd\n",
    "\n",
    "wenieval = pd.DataFrame(worksheet.get_all_records())"
   ]
  },
  {
   "cell_type": "code",
   "execution_count": null,
   "metadata": {
    "id": "_5NT6UZWV7W_"
   },
   "outputs": [],
   "source": [
    "!pip install openai==1.55.3 httpx==0.27.2"
   ]
  },
  {
   "cell_type": "code",
   "execution_count": null,
   "metadata": {
    "id": "bpCls2qFWH53"
   },
   "outputs": [],
   "source": [
    "import openai\n",
    "import os"
   ]
  },
  {
   "cell_type": "code",
   "execution_count": null,
   "metadata": {
    "id": "bkGgZy6Bqe7B"
   },
   "outputs": [],
   "source": [
    "\n",
    "os.environ['OPENAI_API_KEY'] = ''"
   ]
  },
  {
   "cell_type": "code",
   "execution_count": null,
   "metadata": {
    "id": "aE4-eRVwCoae"
   },
   "outputs": [],
   "source": [
    "from openai import OpenAI\n",
    "client = OpenAI()"
   ]
  },
  {
   "cell_type": "code",
   "execution_count": null,
   "metadata": {
    "id": "sCvDg5yjPupI"
   },
   "outputs": [],
   "source": [
    "!pip install trulens trulens-providers-openai chromadb"
   ]
  },
  {
   "cell_type": "code",
   "execution_count": null,
   "metadata": {
    "id": "JqX1aaN7PupJ"
   },
   "outputs": [],
   "source": [
    "uw_info = \"\"\"\n",
    "One of the main challenges for retailers, distributors and industries that are migrating to a marketplace and dropshipping model is to onboard new sellers and offer the right tools for the partnership to be successful. From integration to catalog synchronization to sending and receiving orders, the process can be slow, complex, and costly.  We have developed the Seller Portal to bring more speed and simplicity to this journey, helping to unlock new sources of revenue for our customers.  The Seller Portal is an edition of the VTEX platform for VTEX or third-party sellers to connect and sell their products on marketplaces. The portal provides sellers with the essential capabilities for the ecommerce operation in large window displays, increasing visibility and sales conversion.  Now, marketplaces hosted on VTEX can invite and connect with sellers more quickly and seamlessly, expanding their product assortment and customer base.  Through the Seller Portal, sellers are able to:  - Have an environment that is automatically connected to the marketplace.   - Activate their catalog in the marketplace to start selling immediately.   - Manage shared products through a marketplace shared catalog.   - Update inventory and product prices.   - Manage and invoice all their orders in the marketplace, being able to process payments.   - Build and manage their operation's logistics strategy.   - Decrease the \\\"time to revenue\\\" of their sales.    ## What to expect from the Seller Portal?  Here are some details about the Seller Portal:    - Only marketplaces will be able to create and manage product promotions. - The catalog architecture can be shared between marketplace and seller through product sharing. The seller, however, can create their own products by defining categories, brands, and specifications. - When the seller chooses to share the catalog with the marketplace, the shared products have the same categories, brands, and specifications as defined by the marketplace. However, only the categories are fully imported into the seller's environment. Brands are imported only when a product is imported and specifications are not imported. - If the payment is processed by the marketplace, commission disbursement and seller payouts are not handled by VTEX.   - Support for the seller’s experience will be provided by the marketplace operator.      **What we’re launching now**   - Environment automatically connected to the marketplace.   - Marketplace’s orders management.    - Logistic operation management.   - Shared catalog with marketplace.   - Managing seller’s own assortment of products    ## Setting up your store  <div class=\\\"alert alert-warning\\\"> The limit for each Seller Portal account is 100 thousand products. For more information, please contact our <a href=\\\"https://support.vtex.com/hc/pt-br/requests\\\">Support.</div>  To start selling your products on the marketplace, you need to configure your store on the Seller Portal. This article explains the complete flow of this initial setup and indicates other documentation for you to access each step in more detail. The basic configuration of the Seller Portal includes the steps listed below.  ### 1. Catalog  The Seller Portal Catalog is the module where you configure your store’s product assortment. For customers to see your products on the marketplace, you need to add and configure them through the Catalog, using the Seller Portal or REST API.  To access the Seller Portal Catalog, go to the sidebar and click on **Products > Shared Products / Products**.  To manage the Seller Portal Catalog using REST API, check out the [Catalog API - Seller Portal](https://developers.vtex.com/docs/api-reference/catalog-api-seller-portal) documentation.  To learn more, check out the following articles:   - [Seller Portal: How Catalog works](https://help.vtex.com/en/tutorial/seller-portal-como-funciona-o-catalogo--7pMB6YOt6YQDQQbzFB4Pxp)            - [All Products](https://help.vtex.com/en/tutorial/lista-de-produtos-beta--49vxWqoaWRZC4atwLz6cMg)     - [How to create a product](https://help.vtex.com/en/tutorial/como-criar-um-produto-beta--671zAWe0B9eCikzDu7kB1G)   - [Categories](https://help.vtex.com/tutorial/categories-beta--798zOqqqbeec776xhcXSuV)     - [Brands](https://help.vtex.com/entutorial/brands-beta--3QvNtxO57U0QPNOGutv7Sy) - [Seller Portal: Shared Products](https://help.vtex.com/en/tutorial/seller-portal-produtos-compartilhados--6vUGj2UmOuLzQTK9pj04lu)     - [Seller Portal: Product details](https://help.vtex.com/en/tutorial/seller-portal-detalhes-do-produto--K0WWsERWj7aQtmZinhYoP)       ### 2. Prices  For a product to be sold, your customer needs to know how much each item displayed on the marketplace costs. The Prices module is the system responsible for creating, editing and storing pricing data for your products and their variations. To access the Prices module, go to the sidebar and click on Products > Price List / Price Rules.   To learn more, check out the following articles:    - [Pricing Module Overview](https://help.vtex.com/en/tracks/precos-101--6f8pwCns3PJHqMvQSugNfP)   - [Adding a base price](https://help.vtex.com/en/tracks/precos-101--6f8pwCns3PJHqMvQSugNfP/P99EjtrlRHk92Q8qDPq29)    ### 3. Logistics  Your Seller Portal’s Logistics configuration allows you to build the most appropriate inventory and delivery strategy for your business. These configurations are used at checkout, for example, for the system to calculate the shipping rate for an order. They are also needed after an order is placed and its payment is authorized - when the journey to the final customer actually begins.  A delivery’s logistics route starts in the inventory, continues to the loading docks, and, afterward, the carriers finish the process, delivering the products to the customers’ addresses.  The Seller Portal has some pre-configured features to facilitate your interaction with the platform. To access the logistics modules, go to the sidebar and click on Shipping > Shipping Rates / Shipping Simulator / Pickup Points / Shipping Strategy. Your account has a standard inventory and loading dock, and it is not necessary to change this configuration for your store to sell in the marketplace.\n",
    "\n",
    "\"\"\""
   ]
  },
  {
   "cell_type": "markdown",
   "metadata": {
    "id": "kHnKh7CfPupJ"
   },
   "source": [
    "## Create Vector Store\n"
   ]
  },
  {
   "cell_type": "code",
   "execution_count": null,
   "metadata": {
    "id": "G8n-iRdoPupK"
   },
   "outputs": [],
   "source": [
    "import chromadb\n",
    "from chromadb.utils.embedding_functions import OpenAIEmbeddingFunction\n",
    "\n",
    "embedding_function = OpenAIEmbeddingFunction(\n",
    "    api_key=os.environ.get(\"OPENAI_API_KEY\"),\n",
    "    model_name=\"text-embedding-ada-002\",\n",
    ")\n",
    "\n",
    "\n",
    "chroma_client = chromadb.Client()\n",
    "vector_store = chroma_client.get_or_create_collection(\n",
    "    name=\"Washington\", embedding_function=embedding_function\n",
    ")"
   ]
  },
  {
   "cell_type": "code",
   "execution_count": null,
   "metadata": {
    "id": "eyujTKVjPupL"
   },
   "outputs": [],
   "source": [
    "vector_store.add(\"uw_info\", documents=uw_info)"
   ]
  },
  {
   "cell_type": "markdown",
   "metadata": {
    "id": "Qzm_OxuUPupL"
   },
   "source": [
    "## Build RAG"
   ]
  },
  {
   "cell_type": "code",
   "execution_count": null,
   "metadata": {
    "colab": {
     "base_uri": "https://localhost:8080/"
    },
    "id": "hcLdWY3_PupL",
    "outputId": "27b686e5-fc4b-44f6-a860-3c3e9577769a"
   },
   "outputs": [
    {
     "name": "stdout",
     "output_type": "stream",
     "text": [
      "🦑 Initialized with db url sqlite:///default.sqlite .\n",
      "🛑 Secret keys may be written to the database. See the `database_redact_keys` option of `TruSession` to prevent this.\n"
     ]
    },
    {
     "name": "stderr",
     "output_type": "stream",
     "text": [
      "Updating app_name and app_version in apps table: 0it [00:00, ?it/s]\n",
      "Updating app_id in records table: 0it [00:00, ?it/s]\n",
      "Updating app_json in apps table: 0it [00:00, ?it/s]\n",
      "Updating app_name and app_version in apps table: 0it [00:00, ?it/s]\n",
      "Updating app_id in records table: 0it [00:00, ?it/s]\n",
      "Updating app_json in apps table: 0it [00:00, ?it/s]\n"
     ]
    }
   ],
   "source": [
    "from trulens.apps.custom import instrument\n",
    "from trulens.core import TruSession\n",
    "\n",
    "session = TruSession()\n",
    "session.reset_database()"
   ]
  },
  {
   "cell_type": "code",
   "execution_count": null,
   "metadata": {
    "id": "nV-3_gT3PupL"
   },
   "outputs": [],
   "source": [
    "from openai import OpenAI\n",
    "\n",
    "oai_client = OpenAI()"
   ]
  },
  {
   "cell_type": "code",
   "execution_count": null,
   "metadata": {
    "id": "H_CQY-x0PupL"
   },
   "outputs": [],
   "source": [
    "from openai import OpenAI\n",
    "\n",
    "oai_client = OpenAI()\n",
    "\n",
    "\n",
    "class RAG:\n",
    "    @instrument\n",
    "    def retrieve(self, query: str) -> list:\n",
    "\n",
    "        results = vector_store.query(query_texts=query, n_results=4)\n",
    "        return [doc for sublist in results[\"documents\"] for doc in sublist]\n",
    "\n",
    "\n",
    "    def generate_completion(self, index):\n",
    "      return wenieval['question'][index]\n",
    "\n",
    "\n",
    "    def query(self, query, index):\n",
    "        context_str = self.retrieve(query=query)\n",
    "        completion = self.generate_completion(index)\n",
    "        return completion\n",
    "\n",
    "\n",
    "rag = RAG()"
   ]
  },
  {
   "cell_type": "markdown",
   "metadata": {
    "id": "Dek0lD5YPupM"
   },
   "source": [
    "## Set up feedback functions.\n"
   ]
  },
  {
   "cell_type": "code",
   "execution_count": null,
   "metadata": {
    "colab": {
     "base_uri": "https://localhost:8080/"
    },
    "id": "0Z2ZBiCgPupM",
    "outputId": "7d86cf2d-afe5-400c-8426-4b343f05a5e4"
   },
   "outputs": [
    {
     "name": "stdout",
     "output_type": "stream",
     "text": [
      "✅ In Groundedness, input source will be set to __record__.app.retrieve.rets.collect() .\n",
      "✅ In Groundedness, input statement will be set to __record__.main_output or `Select.RecordOutput` .\n",
      "✅ In Answer Relevance, input prompt will be set to __record__.main_input or `Select.RecordInput` .\n",
      "✅ In Answer Relevance, input response will be set to __record__.main_output or `Select.RecordOutput` .\n",
      "✅ In Context Relevance, input question will be set to __record__.main_input or `Select.RecordInput` .\n",
      "✅ In Context Relevance, input context will be set to __record__.app.retrieve.rets[:] .\n"
     ]
    }
   ],
   "source": [
    "import numpy as np\n",
    "from trulens.core import Feedback\n",
    "from trulens.core import Select\n",
    "from trulens.providers.openai import OpenAI\n",
    "\n",
    "provider = OpenAI(model_engine=\"gpt-4\")\n",
    "\n",
    "f_groundedness = (\n",
    "    Feedback(\n",
    "        provider.groundedness_measure_with_cot_reasons, name=\"Groundedness\"\n",
    "    )\n",
    "    .on(Select.RecordCalls.retrieve.rets.collect())\n",
    "    .on_output()\n",
    ")\n",
    "f_answer_relevance = (\n",
    "    Feedback(provider.relevance_with_cot_reasons, name=\"Answer Relevance\")\n",
    "    .on_input()\n",
    "    .on_output()\n",
    ")\n",
    "\n",
    "f_context_relevance = (\n",
    "    Feedback(\n",
    "        provider.context_relevance_with_cot_reasons, name=\"Context Relevance\"\n",
    "    )\n",
    "    .on_input()\n",
    "    .on(Select.RecordCalls.retrieve.rets[:])\n",
    "    .aggregate(np.mean)\n",
    ")"
   ]
  },
  {
   "cell_type": "markdown",
   "metadata": {
    "id": "j-Y0Xnd4PupM"
   },
   "source": [
    "## Construct the app"
   ]
  },
  {
   "cell_type": "code",
   "execution_count": null,
   "metadata": {
    "id": "o9zPM09-PupM"
   },
   "outputs": [],
   "source": [
    "from trulens.apps.custom import TruCustomApp\n",
    "\n",
    "tru_rag = TruCustomApp(\n",
    "    rag,\n",
    "    app_name=\"RAG\",\n",
    "    app_version=\"base\",\n",
    "    feedbacks=[f_groundedness, f_answer_relevance, f_context_relevance],\n",
    ")"
   ]
  },
  {
   "cell_type": "markdown",
   "metadata": {
    "id": "LSXflMeKPupM"
   },
   "source": [
    "## Run the app\n",
    "Use `tru_rag` as a context manager for the custom RAG-from-scratch app."
   ]
  },
  {
   "cell_type": "code",
   "execution_count": null,
   "metadata": {
    "id": "-Q52q-dbjQML"
   },
   "outputs": [],
   "source": [
    "with tru_rag as recording:\n",
    "    for index, query in wenieval[\"question\"].items():\n",
    "        rag.query(query, index)"
   ]
  },
  {
   "cell_type": "markdown",
   "metadata": {
    "id": "08I5rQPrPupM"
   },
   "source": [
    "## Check results\n"
   ]
  },
  {
   "cell_type": "code",
   "execution_count": null,
   "metadata": {
    "colab": {
     "base_uri": "https://localhost:8080/",
     "height": 112
    },
    "id": "mlUrFXXKPupN",
    "outputId": "214dcfc3-b4cd-419d-9262-bdfaedd8becd"
   },
   "outputs": [
    {
     "data": {
      "application/vnd.google.colaboratory.intrinsic+json": {
       "summary": "{\n  \"name\": \"session\",\n  \"rows\": 1,\n  \"fields\": [\n    {\n      \"column\": \"Answer Relevance\",\n      \"properties\": {\n        \"dtype\": \"number\",\n        \"std\": null,\n        \"min\": 0.934156378600823,\n        \"max\": 0.934156378600823,\n        \"num_unique_values\": 1,\n        \"samples\": [\n          0.934156378600823\n        ],\n        \"semantic_type\": \"\",\n        \"description\": \"\"\n      }\n    },\n    {\n      \"column\": \"Context Relevance\",\n      \"properties\": {\n        \"dtype\": \"number\",\n        \"std\": null,\n        \"min\": 0.9917695473251029,\n        \"max\": 0.9917695473251029,\n        \"num_unique_values\": 1,\n        \"samples\": [\n          0.9917695473251029\n        ],\n        \"semantic_type\": \"\",\n        \"description\": \"\"\n      }\n    },\n    {\n      \"column\": \"Groundedness\",\n      \"properties\": {\n        \"dtype\": \"number\",\n        \"std\": null,\n        \"min\": 0.9967354109568449,\n        \"max\": 0.9967354109568449,\n        \"num_unique_values\": 1,\n        \"samples\": [\n          0.9967354109568449\n        ],\n        \"semantic_type\": \"\",\n        \"description\": \"\"\n      }\n    },\n    {\n      \"column\": \"latency\",\n      \"properties\": {\n        \"dtype\": \"number\",\n        \"std\": null,\n        \"min\": 0.22525452475247526,\n        \"max\": 0.22525452475247526,\n        \"num_unique_values\": 1,\n        \"samples\": [\n          0.22525452475247526\n        ],\n        \"semantic_type\": \"\",\n        \"description\": \"\"\n      }\n    },\n    {\n      \"column\": \"total_cost\",\n      \"properties\": {\n        \"dtype\": \"number\",\n        \"std\": null,\n        \"min\": 0.0,\n        \"max\": 0.0,\n        \"num_unique_values\": 1,\n        \"samples\": [\n          0.0\n        ],\n        \"semantic_type\": \"\",\n        \"description\": \"\"\n      }\n    }\n  ]\n}",
       "type": "dataframe"
      },
      "text/html": [
       "\n",
       "  <div id=\"df-cec0b28d-2696-440c-a1ad-38c654aee76f\" class=\"colab-df-container\">\n",
       "    <div>\n",
       "<style scoped>\n",
       "    .dataframe tbody tr th:only-of-type {\n",
       "        vertical-align: middle;\n",
       "    }\n",
       "\n",
       "    .dataframe tbody tr th {\n",
       "        vertical-align: top;\n",
       "    }\n",
       "\n",
       "    .dataframe thead th {\n",
       "        text-align: right;\n",
       "    }\n",
       "</style>\n",
       "<table border=\"1\" class=\"dataframe\">\n",
       "  <thead>\n",
       "    <tr style=\"text-align: right;\">\n",
       "      <th></th>\n",
       "      <th></th>\n",
       "      <th>Answer Relevance</th>\n",
       "      <th>Context Relevance</th>\n",
       "      <th>Groundedness</th>\n",
       "      <th>latency</th>\n",
       "      <th>total_cost</th>\n",
       "    </tr>\n",
       "    <tr>\n",
       "      <th>app_name</th>\n",
       "      <th>app_version</th>\n",
       "      <th></th>\n",
       "      <th></th>\n",
       "      <th></th>\n",
       "      <th></th>\n",
       "      <th></th>\n",
       "    </tr>\n",
       "  </thead>\n",
       "  <tbody>\n",
       "    <tr>\n",
       "      <th>RAG</th>\n",
       "      <th>base</th>\n",
       "      <td>0.934156</td>\n",
       "      <td>0.99177</td>\n",
       "      <td>0.996735</td>\n",
       "      <td>0.225255</td>\n",
       "      <td>0.0</td>\n",
       "    </tr>\n",
       "  </tbody>\n",
       "</table>\n",
       "</div>\n",
       "    <div class=\"colab-df-buttons\">\n",
       "\n",
       "  <div class=\"colab-df-container\">\n",
       "    <button class=\"colab-df-convert\" onclick=\"convertToInteractive('df-cec0b28d-2696-440c-a1ad-38c654aee76f')\"\n",
       "            title=\"Convert this dataframe to an interactive table.\"\n",
       "            style=\"display:none;\">\n",
       "\n",
       "  <svg xmlns=\"http://www.w3.org/2000/svg\" height=\"24px\" viewBox=\"0 -960 960 960\">\n",
       "    <path d=\"M120-120v-720h720v720H120Zm60-500h600v-160H180v160Zm220 220h160v-160H400v160Zm0 220h160v-160H400v160ZM180-400h160v-160H180v160Zm440 0h160v-160H620v160ZM180-180h160v-160H180v160Zm440 0h160v-160H620v160Z\"/>\n",
       "  </svg>\n",
       "    </button>\n",
       "\n",
       "  <style>\n",
       "    .colab-df-container {\n",
       "      display:flex;\n",
       "      gap: 12px;\n",
       "    }\n",
       "\n",
       "    .colab-df-convert {\n",
       "      background-color: #E8F0FE;\n",
       "      border: none;\n",
       "      border-radius: 50%;\n",
       "      cursor: pointer;\n",
       "      display: none;\n",
       "      fill: #1967D2;\n",
       "      height: 32px;\n",
       "      padding: 0 0 0 0;\n",
       "      width: 32px;\n",
       "    }\n",
       "\n",
       "    .colab-df-convert:hover {\n",
       "      background-color: #E2EBFA;\n",
       "      box-shadow: 0px 1px 2px rgba(60, 64, 67, 0.3), 0px 1px 3px 1px rgba(60, 64, 67, 0.15);\n",
       "      fill: #174EA6;\n",
       "    }\n",
       "\n",
       "    .colab-df-buttons div {\n",
       "      margin-bottom: 4px;\n",
       "    }\n",
       "\n",
       "    [theme=dark] .colab-df-convert {\n",
       "      background-color: #3B4455;\n",
       "      fill: #D2E3FC;\n",
       "    }\n",
       "\n",
       "    [theme=dark] .colab-df-convert:hover {\n",
       "      background-color: #434B5C;\n",
       "      box-shadow: 0px 1px 3px 1px rgba(0, 0, 0, 0.15);\n",
       "      filter: drop-shadow(0px 1px 2px rgba(0, 0, 0, 0.3));\n",
       "      fill: #FFFFFF;\n",
       "    }\n",
       "  </style>\n",
       "\n",
       "    <script>\n",
       "      const buttonEl =\n",
       "        document.querySelector('#df-cec0b28d-2696-440c-a1ad-38c654aee76f button.colab-df-convert');\n",
       "      buttonEl.style.display =\n",
       "        google.colab.kernel.accessAllowed ? 'block' : 'none';\n",
       "\n",
       "      async function convertToInteractive(key) {\n",
       "        const element = document.querySelector('#df-cec0b28d-2696-440c-a1ad-38c654aee76f');\n",
       "        const dataTable =\n",
       "          await google.colab.kernel.invokeFunction('convertToInteractive',\n",
       "                                                    [key], {});\n",
       "        if (!dataTable) return;\n",
       "\n",
       "        const docLinkHtml = 'Like what you see? Visit the ' +\n",
       "          '<a target=\"_blank\" href=https://colab.research.google.com/notebooks/data_table.ipynb>data table notebook</a>'\n",
       "          + ' to learn more about interactive tables.';\n",
       "        element.innerHTML = '';\n",
       "        dataTable['output_type'] = 'display_data';\n",
       "        await google.colab.output.renderOutput(dataTable, element);\n",
       "        const docLink = document.createElement('div');\n",
       "        docLink.innerHTML = docLinkHtml;\n",
       "        element.appendChild(docLink);\n",
       "      }\n",
       "    </script>\n",
       "  </div>\n",
       "\n",
       "\n",
       "    </div>\n",
       "  </div>\n"
      ],
      "text/plain": [
       "                      Answer Relevance  Context Relevance  Groundedness  \\\n",
       "app_name app_version                                                      \n",
       "RAG      base                 0.934156            0.99177      0.996735   \n",
       "\n",
       "                       latency  total_cost  \n",
       "app_name app_version                        \n",
       "RAG      base         0.225255         0.0  "
      ]
     },
     "execution_count": 65,
     "metadata": {},
     "output_type": "execute_result"
    }
   ],
   "source": [
    "session.get_leaderboard()"
   ]
  },
  {
   "cell_type": "code",
   "execution_count": null,
   "metadata": {
    "id": "Pu51gRMmPupN"
   },
   "outputs": [],
   "source": [
    "session.get_leaderboard()"
   ]
  }
 ],
 "metadata": {
  "colab": {
   "provenance": []
  },
  "kernelspec": {
   "display_name": "trulens18_release",
   "language": "python",
   "name": "python3"
  },
  "language_info": {
   "codemirror_mode": {
    "name": "ipython",
    "version": 3
   },
   "file_extension": ".py",
   "mimetype": "text/x-python",
   "name": "python",
   "nbconvert_exporter": "python",
   "pygments_lexer": "ipython3"
  }
 },
 "nbformat": 4,
 "nbformat_minor": 0
}
